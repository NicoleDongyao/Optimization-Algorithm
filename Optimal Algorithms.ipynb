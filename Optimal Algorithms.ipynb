{
 "cells": [
  {
   "cell_type": "markdown",
   "metadata": {},
   "source": [
    "# Optimal Algorithms"
   ]
  },
  {
   "cell_type": "markdown",
   "metadata": {},
   "source": [
    "## Table of Contents\n",
    "\n",
    "\n",
    "**[1. least-squares approximation problem](#id_l)**<br/>\n",
    "**[2. regularized least-squares approximation problem](#id_rl)**<br/>\n",
    "**[3. robust regression problem](#id_rr)**<br/>"
   ]
  },
  {
   "cell_type": "code",
   "execution_count": 206,
   "metadata": {
    "ExecuteTime": {
     "end_time": "2021-01-10T11:59:04.282299Z",
     "start_time": "2021-01-10T11:59:04.276343Z"
    }
   },
   "outputs": [],
   "source": [
    "# 导入相关库\n",
    "import pandas as pd\n",
    "import numpy as np\n",
    "import matplotlib.pyplot as plt\n",
    "import math"
   ]
  },
  {
   "cell_type": "markdown",
   "metadata": {},
   "source": [
    "<a id=\"id_l\"></a>\n",
    "## **1：**Consider the least-squares approximation problem"
   ]
  },
  {
   "cell_type": "markdown",
   "metadata": {},
   "source": [
    "### **1.1 Gradient Descennt method**"
   ]
  },
  {
   "cell_type": "code",
   "execution_count": 326,
   "metadata": {
    "ExecuteTime": {
     "end_time": "2021-01-10T15:37:43.787928Z",
     "start_time": "2021-01-10T15:37:43.723106Z"
    },
    "code_folding": [],
    "run_control": {
     "marked": false
    }
   },
   "outputs": [],
   "source": [
    "#生成数据\n",
    "m = 3000\n",
    "n = 500\n",
    "np.random.seed(0)\n",
    "A = np.random.normal(0, 1, (m,n))\n",
    "x = np.random.normal(0, 1, (n, 1))\n",
    "b = np.dot(A, x) + np.random.normal(0, 1, (m, 1))"
   ]
  },
  {
   "cell_type": "code",
   "execution_count": 327,
   "metadata": {
    "ExecuteTime": {
     "end_time": "2021-01-10T15:37:44.526075Z",
     "start_time": "2021-01-10T15:37:44.392463Z"
    },
    "code_folding": [],
    "run_control": {
     "marked": false
    }
   },
   "outputs": [],
   "source": [
    "def GradientDescent(x, y, alpha = 0.0001, max_iterations = 40):\n",
    "    \"\"\"\n",
    "    使用固定步长\n",
    "    \n",
    "    \"\"\"\n",
    "    loss = []\n",
    "    theta = np.zeros((x.shape[1], 1))      \n",
    "    for i in range(max_iterations):\n",
    "        y_hat = np.dot(x, theta)\n",
    "        gradient = 2 * np.dot(x.T, y_hat - y)\n",
    "        theta = theta - alpha * gradient\n",
    "        distence = np.dot(x, theta) - y\n",
    "        error = np.dot(distence.T, distence)\n",
    "        loss.append(error[0,0])       \n",
    "    return loss,theta\n",
    "\n",
    "result1,x1 = GradientDescent(A, b)"
   ]
  },
  {
   "cell_type": "markdown",
   "metadata": {},
   "source": [
    "### **1.2 Mini-batch Stochastic Gradient Descent method**"
   ]
  },
  {
   "cell_type": "code",
   "execution_count": 328,
   "metadata": {
    "ExecuteTime": {
     "end_time": "2021-01-10T15:37:47.402159Z",
     "start_time": "2021-01-10T15:37:47.384209Z"
    }
   },
   "outputs": [],
   "source": [
    "def MiniBatch(x, y, alpha = 0.001,batch = 150, max_epoch = 2):\n",
    "    \"\"\"\n",
    "    使用固定步长\n",
    "    \n",
    "    \"\"\"\n",
    "    loss = []\n",
    "    ar = []\n",
    "    max_iterations = 20\n",
    "    theta = np.zeros((x.shape[1], 1))      \n",
    "    for i in range(max_epoch):\n",
    "        for j in range(max_iterations):\n",
    "            a = j * batch + 1\n",
    "            ar.append(a)\n",
    "            b = (j + 1) * batch\n",
    "            x_min = x[a:b, ]\n",
    "            y_min = y[a:b]\n",
    "            y_hat = np.dot(x_min, theta)\n",
    "            gradient = 2 * np.dot(x_min.T, y_hat - y_min)\n",
    "            theta = theta - alpha * gradient\n",
    "            y_hat = np.dot(x_min, theta)\n",
    "            distence = y_hat - y_min\n",
    "            error = np.dot(distence.T, distence)\n",
    "            loss.append(error[0,0])       \n",
    "    return loss,theta\n",
    "\n",
    "result2,x2 = MiniBatch(A, b)"
   ]
  },
  {
   "cell_type": "markdown",
   "metadata": {},
   "source": [
    "### **1.3 对比**"
   ]
  },
  {
   "cell_type": "code",
   "execution_count": 329,
   "metadata": {
    "ExecuteTime": {
     "end_time": "2021-01-10T15:37:50.702228Z",
     "start_time": "2021-01-10T15:37:50.497769Z"
    },
    "scrolled": false
   },
   "outputs": [
    {
     "data": {
      "image/png": "[encoded data removed]",
      "text/plain": [
       "<Figure size 576x432 with 1 Axes>"
      ]
     },
     "metadata": {
      "needs_background": "light"
     },
     "output_type": "display_data"
    }
   ],
   "source": [
    "plt.figure(figsize=(8, 6))\n",
    "plt.plot( result1, c='red', label='GD',linewidth = 2)\n",
    "plt.plot( result2, c='green', label='Mini',linewidth = 2)\n",
    "plt.xlim(0,40)\n",
    "plt.legend(loc='best')\n",
    "plt.xlabel(\"iterations\")\n",
    "plt.ylabel(\"error\")\n",
    "plt.title(\"GD & Mini\")\n",
    "plt.show()"
   ]
  },
  {
   "cell_type": "markdown",
   "metadata": {},
   "source": [
    "**结果分析：**从迭代次数来看，Gradient Descennt method 比 Mini-batch Stochastic Gradient Descent method 下降得更快，但查找资料了解到在相同浮点数计算下，Mini-batch会下降得更快。GD能够保证一致下降，而Mini-batch不保证下降所以图像有抖动。从精度上来看，10步以后两者精度差不多。"
   ]
  },
  {
   "cell_type": "markdown",
   "metadata": {},
   "source": [
    "可以打印最后一次迭代两种方法求得的最优值，第一列表示实际真值，第二列是GD求得的最优值，第三列是Mini-Batch求得的最优值："
   ]
  },
  {
   "cell_type": "code",
   "execution_count": 330,
   "metadata": {
    "ExecuteTime": {
     "end_time": "2021-01-10T15:38:02.417153Z",
     "start_time": "2021-01-10T15:38:02.400201Z"
    }
   },
   "outputs": [
    {
     "name": "stdout",
     "output_type": "stream",
     "text": [
      "参数的第0个分量 [-0.39087803] [-0.37628237] [-0.35430092]\n",
      "参数的第1个分量 [0.92911117] [0.9497118] [0.90602694]\n",
      "参数的第2个分量 [-1.44006344] [-1.45591406] [-1.42475361]\n",
      "参数的第3个分量 [-0.11174903] [-0.10285445] [-0.0741932]\n",
      "参数的第4个分量 [-1.9845659] [-2.01561596] [-2.01750034]\n",
      "参数的第5个分量 [-0.01883157] [0.0196292] [0.05785864]\n",
      "参数的第6个分量 [0.31478548] [0.35555164] [0.31855638]\n",
      "参数的第7个分量 [0.01362191] [0.03315403] [0.03388235]\n",
      "参数的第8个分量 [1.24399245] [1.2572225] [1.29287054]\n",
      "参数的第9个分量 [0.16882666] [0.17013824] [0.15443049]\n"
     ]
    }
   ],
   "source": [
    "for i in range(10):\n",
    "    print(\"参数的第{}个分量\".format(i),x[i], x1[i], x2[i])"
   ]
  },
  {
   "cell_type": "markdown",
   "metadata": {},
   "source": [
    "<a id=\"id_rl\"></a>\n",
    "## **2：**Consider the regularized  least-squares approximation problem"
   ]
  },
  {
   "cell_type": "markdown",
   "metadata": {},
   "source": [
    "### **2.1 Iterative Soft-Thresholding Algorithm**"
   ]
  },
  {
   "cell_type": "code",
   "execution_count": 355,
   "metadata": {
    "ExecuteTime": {
     "end_time": "2021-01-10T15:51:40.845760Z",
     "start_time": "2021-01-10T15:51:40.776941Z"
    }
   },
   "outputs": [],
   "source": [
    "#生成数据\n",
    "m = 3000\n",
    "n = 500\n",
    "np.random.seed(0)\n",
    "A = np.random.normal(0, 1, (m,n))\n",
    "x = np.random.normal(0, 1, (n, 1))\n",
    "b = np.dot(A, x) + np.random.normal(0, 1, (m, 1))"
   ]
  },
  {
   "cell_type": "code",
   "execution_count": 356,
   "metadata": {
    "ExecuteTime": {
     "end_time": "2021-01-10T15:51:43.661940Z",
     "start_time": "2021-01-10T15:51:41.477111Z"
    }
   },
   "outputs": [],
   "source": [
    "#软阈值函数\n",
    "def soft_thresholding(beta, lambda0):\n",
    "    for i in range(len(beta)):\n",
    "        if beta[i] > lambda0:\n",
    "            beta[i] = beta[i] - lambda0\n",
    "        elif beta[i] < - lambda0:\n",
    "            beta[i] = beta[i] + lambda0\n",
    "        else:\n",
    "            beta[i] = 0\n",
    "    return beta\n",
    "\n",
    "def ISTA(x, y, alpha = 1e-5, max_iterations = 500):\n",
    "    \"\"\"\n",
    "    使用固定步长\n",
    "    \n",
    "    \"\"\"\n",
    "    lambda0 = 0.05 * m\n",
    "    loss = []\n",
    "    theta = np.zeros((x.shape[1], 1))\n",
    "    soft = lambda0 * alpha\n",
    "    for i in range(max_iterations):\n",
    "        y_hat = np.dot(x, theta)\n",
    "        distence = y_hat - y\n",
    "        error = 0.5 * np.dot(distence.T, distence) + lambda0 * sum(abs(theta))\n",
    "        loss.append(error[0,0])       \n",
    "        variation = alpha * np.dot(x.T, y - y_hat)\n",
    "        theta = soft_thresholding(theta + variation, soft)\n",
    "    return loss, theta\n",
    "\n",
    "result3, x3 = ISTA(A, b)"
   ]
  },
  {
   "cell_type": "markdown",
   "metadata": {},
   "source": [
    "### **2.2 Alternating Direction Method of Multipliers**"
   ]
  },
  {
   "cell_type": "code",
   "execution_count": 357,
   "metadata": {
    "ExecuteTime": {
     "end_time": "2021-01-10T15:51:50.943117Z",
     "start_time": "2021-01-10T15:51:45.602150Z"
    }
   },
   "outputs": [],
   "source": [
    "#软阈值函数\n",
    "def soft_thresholding(beta, lambda0):\n",
    "    for i in range(len(beta)):\n",
    "        if beta[i] > lambda0:\n",
    "            beta[i] = beta[i] - lambda0\n",
    "        elif beta[i] < - lambda0:\n",
    "            beta[i] = beta[i] + lambda0\n",
    "        else:\n",
    "            beta[i] = 0 \n",
    "    return beta\n",
    "\n",
    "\n",
    "def ADMM(A, b, rho=0.75, lambda0 = m * 0.05, max_iterations = 150):\n",
    "    \"\"\"\n",
    "    使用固定步长\n",
    "    \n",
    "    \"\"\"\n",
    "    loss = []\n",
    "    x = np.zeros((A.shape[1], 1))\n",
    "    y = np.zeros((A.shape[1], 1))\n",
    "    z = np.zeros((A.shape[1], 1))\n",
    "    I = np.eye((A.shape[1]))\n",
    "    \n",
    "    for i in range(max_iterations):       \n",
    "        b_hat = np.dot(A, x)\n",
    "        distence = b_hat - b\n",
    "        error = 0.5 * np.dot(distence.T, distence) + lambda0 * sum(abs(z))\n",
    "        loss.append(error[0,0])\n",
    "        x_new = np.dot(np.linalg.inv((np.dot(A.T, A) + rho * I)), (np.dot(A.T, b) + rho * z - y))\n",
    "        z_new = soft_thresholding(x_new + y / rho,lambda0 / rho)\n",
    "        y_new = y + rho * (x_new - z_new)\n",
    "        x=x_new\n",
    "        y=y_new\n",
    "        z=z_new   \n",
    "    return loss,x\n",
    "\n",
    "result4,x4 = ADMM(A, b)"
   ]
  },
  {
   "cell_type": "markdown",
   "metadata": {},
   "source": [
    "### **2.3 对比**"
   ]
  },
  {
   "cell_type": "code",
   "execution_count": 358,
   "metadata": {
    "ExecuteTime": {
     "end_time": "2021-01-10T15:51:51.429186Z",
     "start_time": "2021-01-10T15:51:51.141799Z"
    },
    "scrolled": false
   },
   "outputs": [
    {
     "data": {
      "image/png": "[encoded data removed]",
      "text/plain": [
       "<Figure size 576x432 with 1 Axes>"
      ]
     },
     "metadata": {
      "needs_background": "light"
     },
     "output_type": "display_data"
    }
   ],
   "source": [
    "plt.figure(figsize=(8, 6))\n",
    "plt.plot( result3, c='red', label='ISTA',linewidth = 2)\n",
    "plt.plot( result4, c='green', label='ADMM',linewidth = 2)\n",
    "plt.xlim(0,150)\n",
    "plt.legend(loc='best')\n",
    "plt.xlabel(\"iterations\")\n",
    "plt.ylabel(\"error\")\n",
    "plt.title(\"ISTA & ADMM\")\n",
    "plt.show()"
   ]
  },
  {
   "cell_type": "markdown",
   "metadata": {
    "ExecuteTime": {
     "end_time": "2021-01-10T15:41:26.977025Z",
     "start_time": "2021-01-10T15:41:26.969046Z"
    }
   },
   "source": [
    "**结果分析：**从迭代次数来看，ADMM 比 ISTA 下降得更快,从精度上来看，相同迭代次数下ADMM的误差更小。"
   ]
  },
  {
   "cell_type": "markdown",
   "metadata": {},
   "source": [
    "<a id=\"id_rr\"></a>\n",
    "## **3：**Consider the robust regression problem"
   ]
  },
  {
   "cell_type": "markdown",
   "metadata": {},
   "source": [
    "### **3.1 Sub-gradient Descent method**"
   ]
  },
  {
   "cell_type": "code",
   "execution_count": 359,
   "metadata": {
    "ExecuteTime": {
     "end_time": "2021-01-10T15:55:04.896707Z",
     "start_time": "2021-01-10T15:55:04.824897Z"
    }
   },
   "outputs": [],
   "source": [
    "#生成数据\n",
    "m = 3000\n",
    "n = 500\n",
    "np.random.seed(0)\n",
    "A = np.random.normal(0, 1, (m,n))\n",
    "x = np.random.normal(0, 1, (n, 1))\n",
    "b = np.dot(A, x) + np.random.normal(0, 1, (m, 1))"
   ]
  },
  {
   "cell_type": "code",
   "execution_count": 360,
   "metadata": {
    "ExecuteTime": {
     "end_time": "2021-01-10T15:55:48.430749Z",
     "start_time": "2021-01-10T15:55:30.231698Z"
    }
   },
   "outputs": [],
   "source": [
    "#次梯度\n",
    "def subgradient(x):\n",
    "    for i in range(len(x)):\n",
    "        x[i] = np.sign(x[i])\n",
    "    return x\n",
    "\n",
    "def SubGradientDescent(x, y, alpha = 0.001, max_iterations = 2000):\n",
    "    \"\"\"\n",
    "    使用固定步长\n",
    "    \n",
    "    \"\"\"\n",
    "    loss = []\n",
    "    theta = np.zeros((x.shape[1], 1))\n",
    "    for i in range(max_iterations):       \n",
    "        y_hat = np.dot(x, theta)\n",
    "        distence = y_hat - y\n",
    "        error = sum(abs(distence))\n",
    "        loss.append(error[0])\n",
    "        \n",
    "        gradient = np.dot(x.T, subgradient(distence))\n",
    "        new_theta = theta - alpha * gradient\n",
    "        theta = new_theta\n",
    "    return loss,theta\n",
    "\n",
    "result5, x5 = SubGradientDescent(A, b)"
   ]
  },
  {
   "cell_type": "markdown",
   "metadata": {},
   "source": [
    "### **3.2 Alternating Direction Method of Multipliers**"
   ]
  },
  {
   "cell_type": "code",
   "execution_count": 361,
   "metadata": {
    "ExecuteTime": {
     "end_time": "2021-01-10T15:55:56.740437Z",
     "start_time": "2021-01-10T15:55:48.655154Z"
    }
   },
   "outputs": [],
   "source": [
    "#软阈值函数\n",
    "def soft_thresholding(beta, lambda0):\n",
    "    for i in range(len(beta)):\n",
    "        if beta[i] > lambda0:\n",
    "            beta[i] = beta[i] - lambda0\n",
    "        elif beta[i] < - lambda0:\n",
    "            beta[i] = beta[i] + lambda0\n",
    "        else:\n",
    "            beta[i] = 0\n",
    "    return beta\n",
    "\n",
    "\n",
    "def ADMM(A, b, rho = 1e-6, max_iterations = 100):\n",
    "    \"\"\"\n",
    "    使用固定步长\n",
    "    \n",
    "    \"\"\"\n",
    "    loss = []\n",
    "    x = np.zeros((A.shape[1], 1))\n",
    "    y = np.zeros((A.shape[0], 1))\n",
    "    z = np.zeros((A.shape[0], 1))    \n",
    "    for i in range(max_iterations):       \n",
    "        b_hat = np.dot(A, x)\n",
    "        distence = b_hat - b\n",
    "        error = sum(abs(distence))\n",
    "        loss.append(error[0])\n",
    "        \n",
    "        x_new = np.dot(np.dot(np.linalg.inv(rho * np.dot(A.T, A)), A.T), rho * z + rho * b - y)\n",
    "        z_new = soft_thresholding(np.dot(A, x_new) - b + y / rho, 1 / rho)\n",
    "        y_new = y + rho * (np.dot(A, x_new) - z_new - b)\n",
    "        x=x_new\n",
    "        y=y_new\n",
    "        z=z_new   \n",
    "    return loss,x\n",
    "result6, x6 = ADMM(A, b)"
   ]
  },
  {
   "cell_type": "markdown",
   "metadata": {},
   "source": [
    "### **3.3 对比**"
   ]
  },
  {
   "cell_type": "code",
   "execution_count": 363,
   "metadata": {
    "ExecuteTime": {
     "end_time": "2021-01-10T15:56:31.503990Z",
     "start_time": "2021-01-10T15:56:31.309479Z"
    }
   },
   "outputs": [
    {
     "data": {
      "image/png": "[encoded data removed]",
      "text/plain": [
       "<Figure size 576x432 with 1 Axes>"
      ]
     },
     "metadata": {
      "needs_background": "light"
     },
     "output_type": "display_data"
    }
   ],
   "source": [
    "plt.figure(figsize=(8, 6))\n",
    "plt.plot( result5, c='red', label='SgD',linewidth = 2)\n",
    "plt.plot( result6, c='green', label='ADMM',linewidth = 2)\n",
    "plt.xlim(0,100)\n",
    "plt.legend(loc='best')\n",
    "plt.xlabel(\"iterations\")\n",
    "plt.ylabel(\"error\")\n",
    "plt.title(\"SgD & ADMM\")\n",
    "plt.show()"
   ]
  },
  {
   "cell_type": "markdown",
   "metadata": {},
   "source": [
    "**结果分析：**从迭代次数来看，ADMM 比 SgD 下降得更快,从精度上来看，相同迭代次数下ADMM的误差更小。"
   ]
  }
 ],
 "metadata": {
  "gist": {
   "data": {
    "description": "Algorithms for Data Science and AI Final Exam+董瑶+2020103748.ipynb",
    "public": false
   },
   "id": ""
  },
  "hide_input": false,
  "kernelspec": {
   "display_name": "Python 3",
   "language": "python",
   "name": "python3"
  },
  "language_info": {
   "codemirror_mode": {
    "name": "ipython",
    "version": 3
   },
   "file_extension": ".py",
   "mimetype": "text/x-python",
   "name": "python",
   "nbconvert_exporter": "python",
   "pygments_lexer": "ipython3",
   "version": "3.8.3"
  },
  "latex_envs": {
   "LaTeX_envs_menu_present": true,
   "autoclose": false,
   "autocomplete": true,
   "bibliofile": "biblio.bib",
   "cite_by": "apalike",
   "current_citInitial": 1,
   "eqLabelWithNumbers": true,
   "eqNumInitial": 1,
   "hotkeys": {
    "equation": "Ctrl-E",
    "itemize": "Ctrl-I"
   },
   "labels_anchors": false,
   "latex_user_defs": false,
   "report_style_numbering": false,
   "user_envs_cfg": false
  },
  "nbTranslate": {
   "displayLangs": [
    "*"
   ],
   "hotkey": "alt-t",
   "langInMainMenu": true,
   "sourceLang": "en",
   "targetLang": "fr",
   "useGoogleTranslate": true
  },
  "toc": {
   "base_numbering": 1,
   "nav_menu": {},
   "number_sections": false,
   "sideBar": true,
   "skip_h1_title": false,
   "title_cell": "Table of Contents",
   "title_sidebar": "Contents",
   "toc_cell": false,
   "toc_position": {
    "height": "calc(100% - 180px)",
    "left": "10px",
    "top": "150px",
    "width": "242px"
   },
   "toc_section_display": true,
   "toc_window_display": true
  },
  "varInspector": {
   "cols": {
    "lenName": 16,
    "lenType": 16,
    "lenVar": 40
   },
   "kernels_config": {
    "python": {
     "delete_cmd_postfix": "",
     "delete_cmd_prefix": "del ",
     "library": "var_list.py",
     "varRefreshCmd": "print(var_dic_list())"
    },
    "r": {
     "delete_cmd_postfix": ") ",
     "delete_cmd_prefix": "rm(",
     "library": "var_list.r",
     "varRefreshCmd": "cat(var_dic_list()) "
    }
   },
   "position": {
    "height": "273.183px",
    "left": "1126.24px",
    "right": "20px",
    "top": "120px",
    "width": "275.995px"
   },
   "types_to_exclude": [
    "module",
    "function",
    "builtin_function_or_method",
    "instance",
    "_Feature"
   ],
   "window_display": false
  }
 },
 "nbformat": 4,
 "nbformat_minor": 4
}
